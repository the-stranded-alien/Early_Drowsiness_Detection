{
 "cells": [
  {
   "cell_type": "code",
   "execution_count": 1,
   "metadata": {},
   "outputs": [],
   "source": [
    "import os\n",
    "import pandas as pd\n",
    "import glob\n",
    "#import sklearn.tree"
   ]
  },
  {
   "cell_type": "code",
   "execution_count": 2,
   "metadata": {},
   "outputs": [],
   "source": [
    "pathChanger = \"/\"\n",
    "path  = \"dataset\""
   ]
  },
  {
   "cell_type": "code",
   "execution_count": 3,
   "metadata": {},
   "outputs": [],
   "source": [
    "folders = os.listdir(\"dataset\")"
   ]
  },
  {
   "cell_type": "code",
   "execution_count": 4,
   "metadata": {},
   "outputs": [
    {
     "name": "stdout",
     "output_type": "stream",
     "text": [
      "01.0.csv\n"
     ]
    }
   ],
   "source": [
    "folderPath = path+pathChanger+folders[0]\n",
    "files = os.listdir(folderPath)\n",
    "files.sort()\n",
    "print(files[0])"
   ]
  },
  {
   "cell_type": "code",
   "execution_count": 5,
   "metadata": {},
   "outputs": [
    {
     "name": "stdout",
     "output_type": "stream",
     "text": [
      "dataset/5%-MinMax_Scaled_CSV_Files 5%-MinMax_Scaled_CSV_Files\n"
     ]
    }
   ],
   "source": [
    "folders[0]\n",
    "folderPath = path+pathChanger+folders[0]\n",
    "print(folderPath,folders[0])"
   ]
  },
  {
   "cell_type": "code",
   "execution_count": 6,
   "metadata": {},
   "outputs": [],
   "source": [
    "file = files[0]\n",
    "minMaxDb = pd.DataFrame(columns=[i for i in range((68*2)+1)])"
   ]
  },
  {
   "cell_type": "code",
   "execution_count": 7,
   "metadata": {},
   "outputs": [
    {
     "data": {
      "text/html": [
       "<div>\n",
       "<style scoped>\n",
       "    .dataframe tbody tr th:only-of-type {\n",
       "        vertical-align: middle;\n",
       "    }\n",
       "\n",
       "    .dataframe tbody tr th {\n",
       "        vertical-align: top;\n",
       "    }\n",
       "\n",
       "    .dataframe thead th {\n",
       "        text-align: right;\n",
       "    }\n",
       "</style>\n",
       "<table border=\"1\" class=\"dataframe\">\n",
       "  <thead>\n",
       "    <tr style=\"text-align: right;\">\n",
       "      <th></th>\n",
       "      <th>0</th>\n",
       "      <th>1</th>\n",
       "      <th>2</th>\n",
       "      <th>3</th>\n",
       "      <th>4</th>\n",
       "      <th>5</th>\n",
       "      <th>6</th>\n",
       "      <th>7</th>\n",
       "      <th>8</th>\n",
       "      <th>9</th>\n",
       "      <th>...</th>\n",
       "      <th>127</th>\n",
       "      <th>128</th>\n",
       "      <th>129</th>\n",
       "      <th>130</th>\n",
       "      <th>131</th>\n",
       "      <th>132</th>\n",
       "      <th>133</th>\n",
       "      <th>134</th>\n",
       "      <th>135</th>\n",
       "      <th>136</th>\n",
       "    </tr>\n",
       "  </thead>\n",
       "  <tbody>\n",
       "  </tbody>\n",
       "</table>\n",
       "<p>0 rows × 137 columns</p>\n",
       "</div>"
      ],
      "text/plain": [
       "Empty DataFrame\n",
       "Columns: [0, 1, 2, 3, 4, 5, 6, 7, 8, 9, 10, 11, 12, 13, 14, 15, 16, 17, 18, 19, 20, 21, 22, 23, 24, 25, 26, 27, 28, 29, 30, 31, 32, 33, 34, 35, 36, 37, 38, 39, 40, 41, 42, 43, 44, 45, 46, 47, 48, 49, 50, 51, 52, 53, 54, 55, 56, 57, 58, 59, 60, 61, 62, 63, 64, 65, 66, 67, 68, 69, 70, 71, 72, 73, 74, 75, 76, 77, 78, 79, 80, 81, 82, 83, 84, 85, 86, 87, 88, 89, 90, 91, 92, 93, 94, 95, 96, 97, 98, 99, ...]\n",
       "Index: []\n",
       "\n",
       "[0 rows x 137 columns]"
      ]
     },
     "execution_count": 7,
     "metadata": {},
     "output_type": "execute_result"
    }
   ],
   "source": [
    "minMaxDb"
   ]
  },
  {
   "cell_type": "code",
   "execution_count": 8,
   "metadata": {},
   "outputs": [
    {
     "data": {
      "text/plain": [
       "'01.0.csv'"
      ]
     },
     "execution_count": 8,
     "metadata": {},
     "output_type": "execute_result"
    }
   ],
   "source": [
    "file"
   ]
  },
  {
   "cell_type": "code",
   "execution_count": 9,
   "metadata": {},
   "outputs": [
    {
     "data": {
      "text/plain": [
       "'0'"
      ]
     },
     "execution_count": 9,
     "metadata": {},
     "output_type": "execute_result"
    }
   ],
   "source": [
    "file.split('.')[1]"
   ]
  },
  {
   "cell_type": "code",
   "execution_count": 10,
   "metadata": {},
   "outputs": [],
   "source": [
    "hdf_path = 'my_concatenated_file.h5'"
   ]
  },
  {
   "cell_type": "code",
   "execution_count": 11,
   "metadata": {
    "scrolled": true
   },
   "outputs": [
    {
     "name": "stdout",
     "output_type": "stream",
     "text": [
      "dataset/5%-MinMax_Scaled_CSV_Files/01.0.csv\n",
      "dataset/5%-MinMax_Scaled_CSV_Files/01.10.csv\n",
      "dataset/5%-MinMax_Scaled_CSV_Files/01.5.csv\n",
      "dataset/5%-MinMax_Scaled_CSV_Files/02.0.csv\n",
      "dataset/5%-MinMax_Scaled_CSV_Files/02.10.csv\n",
      "dataset/5%-MinMax_Scaled_CSV_Files/02.5.csv\n",
      "dataset/5%-MinMax_Scaled_CSV_Files/03.0.csv\n",
      "dataset/5%-MinMax_Scaled_CSV_Files/03.10.csv\n",
      "dataset/5%-MinMax_Scaled_CSV_Files/03.5.csv\n",
      "dataset/5%-MinMax_Scaled_CSV_Files/04.0.csv\n",
      "dataset/5%-MinMax_Scaled_CSV_Files/04.10.csv\n",
      "dataset/5%-MinMax_Scaled_CSV_Files/04.5.csv\n",
      "dataset/5%-MinMax_Scaled_CSV_Files/05.0.csv\n",
      "dataset/5%-MinMax_Scaled_CSV_Files/05.10.csv\n",
      "dataset/5%-MinMax_Scaled_CSV_Files/05.5.csv\n",
      "dataset/5%-MinMax_Scaled_CSV_Files/06.0.csv\n",
      "dataset/5%-MinMax_Scaled_CSV_Files/06.10.csv\n",
      "dataset/5%-MinMax_Scaled_CSV_Files/06.5.csv\n",
      "dataset/5%-MinMax_Scaled_CSV_Files/07.0.csv\n",
      "dataset/5%-MinMax_Scaled_CSV_Files/07.10.csv\n",
      "dataset/5%-MinMax_Scaled_CSV_Files/07.5.csv\n",
      "dataset/5%-MinMax_Scaled_CSV_Files/08.0.csv\n",
      "dataset/5%-MinMax_Scaled_CSV_Files/08.10.csv\n",
      "dataset/5%-MinMax_Scaled_CSV_Files/08.5.csv\n",
      "dataset/5%-MinMax_Scaled_CSV_Files/09.0.csv\n",
      "dataset/5%-MinMax_Scaled_CSV_Files/09.10.csv\n",
      "dataset/5%-MinMax_Scaled_CSV_Files/09.5.csv\n",
      "dataset/5%-MinMax_Scaled_CSV_Files/10.0.csv\n",
      "dataset/5%-MinMax_Scaled_CSV_Files/10.10.csv\n",
      "dataset/5%-MinMax_Scaled_CSV_Files/10.5.csv\n",
      "dataset/5%-MinMax_Scaled_CSV_Files/11.0.csv\n",
      "dataset/5%-MinMax_Scaled_CSV_Files/11.10.csv\n",
      "dataset/5%-MinMax_Scaled_CSV_Files/11.5.csv\n",
      "dataset/5%-MinMax_Scaled_CSV_Files/12.0.csv\n",
      "dataset/5%-MinMax_Scaled_CSV_Files/12.10.csv\n",
      "dataset/5%-MinMax_Scaled_CSV_Files/12.5.csv\n",
      "dataset/5%-MinMax_Scaled_CSV_Files/13.0.csv\n",
      "dataset/5%-MinMax_Scaled_CSV_Files/13.10.csv\n",
      "dataset/5%-MinMax_Scaled_CSV_Files/13.5.csv\n",
      "dataset/5%-MinMax_Scaled_CSV_Files/14.0.csv\n",
      "dataset/5%-MinMax_Scaled_CSV_Files/14.10.csv\n",
      "dataset/5%-MinMax_Scaled_CSV_Files/14.5.csv\n",
      "dataset/5%-MinMax_Scaled_CSV_Files/15.0.csv\n",
      "dataset/5%-MinMax_Scaled_CSV_Files/15.10.csv\n",
      "dataset/5%-MinMax_Scaled_CSV_Files/15.5.csv\n",
      "dataset/5%-MinMax_Scaled_CSV_Files/16.0.csv\n",
      "dataset/5%-MinMax_Scaled_CSV_Files/16.10.csv\n",
      "dataset/5%-MinMax_Scaled_CSV_Files/16.5.csv\n",
      "dataset/5%-MinMax_Scaled_CSV_Files/17.0.csv\n",
      "dataset/5%-MinMax_Scaled_CSV_Files/17.10.csv\n",
      "dataset/5%-MinMax_Scaled_CSV_Files/17.5.csv\n",
      "dataset/5%-MinMax_Scaled_CSV_Files/18.0.csv\n",
      "dataset/5%-MinMax_Scaled_CSV_Files/18.10.csv\n",
      "dataset/5%-MinMax_Scaled_CSV_Files/18.5.csv\n",
      "dataset/5%-MinMax_Scaled_CSV_Files/19.0.csv\n",
      "dataset/5%-MinMax_Scaled_CSV_Files/19.10.csv\n",
      "dataset/5%-MinMax_Scaled_CSV_Files/19.5.csv\n",
      "dataset/5%-MinMax_Scaled_CSV_Files/20.0.csv\n",
      "dataset/5%-MinMax_Scaled_CSV_Files/20.10.csv\n",
      "dataset/5%-MinMax_Scaled_CSV_Files/20.5.csv\n",
      "dataset/5%-MinMax_Scaled_CSV_Files/21.0.csv\n",
      "dataset/5%-MinMax_Scaled_CSV_Files/21.10.csv\n",
      "dataset/5%-MinMax_Scaled_CSV_Files/21.5.csv\n",
      "dataset/5%-MinMax_Scaled_CSV_Files/22.0.csv\n",
      "dataset/5%-MinMax_Scaled_CSV_Files/22.10.csv\n",
      "dataset/5%-MinMax_Scaled_CSV_Files/22.5.csv\n",
      "dataset/5%-MinMax_Scaled_CSV_Files/23.0.csv\n",
      "dataset/5%-MinMax_Scaled_CSV_Files/23.10.csv\n",
      "dataset/5%-MinMax_Scaled_CSV_Files/23.5.csv\n",
      "dataset/5%-MinMax_Scaled_CSV_Files/24.0.csv\n",
      "dataset/5%-MinMax_Scaled_CSV_Files/24.10.csv\n",
      "dataset/5%-MinMax_Scaled_CSV_Files/24.5.csv\n",
      "dataset/5%-MinMax_Scaled_CSV_Files/25.0.csv\n",
      "dataset/5%-MinMax_Scaled_CSV_Files/25.10.csv\n",
      "dataset/5%-MinMax_Scaled_CSV_Files/25.5.csv\n",
      "dataset/5%-MinMax_Scaled_CSV_Files/26.0.csv\n",
      "dataset/5%-MinMax_Scaled_CSV_Files/26.10.csv\n",
      "dataset/5%-MinMax_Scaled_CSV_Files/26.5.csv\n",
      "dataset/5%-MinMax_Scaled_CSV_Files/27.0.csv\n",
      "dataset/5%-MinMax_Scaled_CSV_Files/27.10.csv\n",
      "dataset/5%-MinMax_Scaled_CSV_Files/27.5.csv\n",
      "dataset/5%-MinMax_Scaled_CSV_Files/28.0.csv\n",
      "dataset/5%-MinMax_Scaled_CSV_Files/28.10.csv\n",
      "dataset/5%-MinMax_Scaled_CSV_Files/28.5.csv\n",
      "dataset/5%-MinMax_Scaled_CSV_Files/29.0.csv\n",
      "dataset/5%-MinMax_Scaled_CSV_Files/29.10.csv\n",
      "dataset/5%-MinMax_Scaled_CSV_Files/29.5.csv\n",
      "dataset/5%-MinMax_Scaled_CSV_Files/30.0.csv\n",
      "dataset/5%-MinMax_Scaled_CSV_Files/30.10.csv\n",
      "dataset/5%-MinMax_Scaled_CSV_Files/30.5.csv\n",
      "dataset/5%-MinMax_Scaled_CSV_Files/31.0.csv\n",
      "dataset/5%-MinMax_Scaled_CSV_Files/31.10.csv\n",
      "dataset/5%-MinMax_Scaled_CSV_Files/31.5.csv\n",
      "dataset/5%-MinMax_Scaled_CSV_Files/32.0.csv\n",
      "dataset/5%-MinMax_Scaled_CSV_Files/32.10.csv\n",
      "dataset/5%-MinMax_Scaled_CSV_Files/32.5.csv\n",
      "dataset/5%-MinMax_Scaled_CSV_Files/33.0.csv\n",
      "dataset/5%-MinMax_Scaled_CSV_Files/33.10.csv\n",
      "dataset/5%-MinMax_Scaled_CSV_Files/33.5.csv\n",
      "dataset/5%-MinMax_Scaled_CSV_Files/34.0.csv\n",
      "dataset/5%-MinMax_Scaled_CSV_Files/34.10.csv\n",
      "dataset/5%-MinMax_Scaled_CSV_Files/34.5.csv\n",
      "dataset/5%-MinMax_Scaled_CSV_Files/35.0.csv\n",
      "dataset/5%-MinMax_Scaled_CSV_Files/35.10.csv\n",
      "dataset/5%-MinMax_Scaled_CSV_Files/35.5.csv\n",
      "dataset/5%-MinMax_Scaled_CSV_Files/36.0.csv\n",
      "dataset/5%-MinMax_Scaled_CSV_Files/36.10.csv\n",
      "dataset/5%-MinMax_Scaled_CSV_Files/36.5.csv\n",
      "dataset/5%-MinMax_Scaled_CSV_Files/37.0.csv\n",
      "dataset/5%-MinMax_Scaled_CSV_Files/37.10.csv\n",
      "dataset/5%-MinMax_Scaled_CSV_Files/37.5.csv\n",
      "dataset/5%-MinMax_Scaled_CSV_Files/38.0.csv\n",
      "dataset/5%-MinMax_Scaled_CSV_Files/38.10.csv\n",
      "dataset/5%-MinMax_Scaled_CSV_Files/38.5.csv\n",
      "dataset/5%-MinMax_Scaled_CSV_Files/39.0.csv\n",
      "dataset/5%-MinMax_Scaled_CSV_Files/39.10.csv\n",
      "dataset/5%-MinMax_Scaled_CSV_Files/39.5.csv\n",
      "dataset/5%-MinMax_Scaled_CSV_Files/40.0.csv\n",
      "dataset/5%-MinMax_Scaled_CSV_Files/40.10.csv\n",
      "dataset/5%-MinMax_Scaled_CSV_Files/40.5.csv\n",
      "dataset/5%-MinMax_Scaled_CSV_Files/41.0.csv\n",
      "dataset/5%-MinMax_Scaled_CSV_Files/41.10.csv\n",
      "dataset/5%-MinMax_Scaled_CSV_Files/41.5.csv\n",
      "dataset/5%-MinMax_Scaled_CSV_Files/42.0.csv\n",
      "dataset/5%-MinMax_Scaled_CSV_Files/42.10.csv\n",
      "dataset/5%-MinMax_Scaled_CSV_Files/42.5.csv\n",
      "dataset/5%-MinMax_Scaled_CSV_Files/43.0.csv\n",
      "dataset/5%-MinMax_Scaled_CSV_Files/43.10.csv\n",
      "dataset/5%-MinMax_Scaled_CSV_Files/43.5.csv\n",
      "dataset/5%-MinMax_Scaled_CSV_Files/44.0.csv\n",
      "dataset/5%-MinMax_Scaled_CSV_Files/44.10.csv\n",
      "dataset/5%-MinMax_Scaled_CSV_Files/44.5.csv\n",
      "dataset/5%-MinMax_Scaled_CSV_Files/45.0.csv\n",
      "dataset/5%-MinMax_Scaled_CSV_Files/45.10.csv\n",
      "dataset/5%-MinMax_Scaled_CSV_Files/45.5.csv\n",
      "dataset/5%-MinMax_Scaled_CSV_Files/46.0.csv\n",
      "dataset/5%-MinMax_Scaled_CSV_Files/46.10.csv\n",
      "dataset/5%-MinMax_Scaled_CSV_Files/46.5.csv\n",
      "dataset/5%-MinMax_Scaled_CSV_Files/47.0.csv\n",
      "dataset/5%-MinMax_Scaled_CSV_Files/47.10.csv\n",
      "dataset/5%-MinMax_Scaled_CSV_Files/47.5.csv\n",
      "dataset/5%-MinMax_Scaled_CSV_Files/48.0.csv\n",
      "dataset/5%-MinMax_Scaled_CSV_Files/48.10.csv\n",
      "dataset/5%-MinMax_Scaled_CSV_Files/48.5.csv\n",
      "dataset/5%-MinMax_Scaled_CSV_Files/49.0.csv\n",
      "dataset/5%-MinMax_Scaled_CSV_Files/49.10.csv\n",
      "dataset/5%-MinMax_Scaled_CSV_Files/49.5.csv\n",
      "dataset/5%-MinMax_Scaled_CSV_Files/50.0.csv\n",
      "dataset/5%-MinMax_Scaled_CSV_Files/50.10.csv\n",
      "dataset/5%-MinMax_Scaled_CSV_Files/50.5.csv\n",
      "dataset/5%-MinMax_Scaled_CSV_Files/51.0.csv\n",
      "dataset/5%-MinMax_Scaled_CSV_Files/51.10.csv\n",
      "dataset/5%-MinMax_Scaled_CSV_Files/51.5.csv\n",
      "dataset/5%-MinMax_Scaled_CSV_Files/52.0.csv\n",
      "dataset/5%-MinMax_Scaled_CSV_Files/52.10.csv\n",
      "dataset/5%-MinMax_Scaled_CSV_Files/52.5.csv\n",
      "dataset/5%-MinMax_Scaled_CSV_Files/53.0.csv\n",
      "dataset/5%-MinMax_Scaled_CSV_Files/53.10.csv\n",
      "dataset/5%-MinMax_Scaled_CSV_Files/53.5.csv\n",
      "dataset/5%-MinMax_Scaled_CSV_Files/54.0.csv\n",
      "dataset/5%-MinMax_Scaled_CSV_Files/54.10.csv\n",
      "dataset/5%-MinMax_Scaled_CSV_Files/54.5.csv\n",
      "dataset/5%-MinMax_Scaled_CSV_Files/55.0.csv\n",
      "dataset/5%-MinMax_Scaled_CSV_Files/55.10.csv\n",
      "dataset/5%-MinMax_Scaled_CSV_Files/55.5.csv\n",
      "dataset/5%-MinMax_Scaled_CSV_Files/56.0.csv\n",
      "dataset/5%-MinMax_Scaled_CSV_Files/56.10.csv\n",
      "dataset/5%-MinMax_Scaled_CSV_Files/56.5.csv\n",
      "dataset/5%-MinMax_Scaled_CSV_Files/57.0.csv\n",
      "dataset/5%-MinMax_Scaled_CSV_Files/57.10.csv\n",
      "dataset/5%-MinMax_Scaled_CSV_Files/57.5.csv\n",
      "dataset/5%-MinMax_Scaled_CSV_Files/58.0.csv\n",
      "dataset/5%-MinMax_Scaled_CSV_Files/58.10.csv\n",
      "dataset/5%-MinMax_Scaled_CSV_Files/58.5.csv\n",
      "dataset/5%-MinMax_Scaled_CSV_Files/59.0.csv\n",
      "dataset/5%-MinMax_Scaled_CSV_Files/59.10.csv\n",
      "dataset/5%-MinMax_Scaled_CSV_Files/59.5.csv\n",
      "dataset/5%-MinMax_Scaled_CSV_Files/60.0.csv\n",
      "dataset/5%-MinMax_Scaled_CSV_Files/60.10.csv\n",
      "dataset/5%-MinMax_Scaled_CSV_Files/60.5.csv\n"
     ]
    }
   ],
   "source": [
    "with pd.HDFStore(hdf_path, mode='w', complevel=5, complib='blosc') as store:\n",
    "    # This compresses the final file by 5 using blosc. You can avoid that or\n",
    "    # change it as per your needs.\n",
    "    for file in files:\n",
    "        filePath = folderPath+pathChanger+file\n",
    "        print(filePath)\n",
    "        df = pd.read_csv(filePath,header=None)\n",
    "        y = int(file.split('.')[1])\n",
    "        df[136] = y\n",
    "        store.append('table_name',df, index=False)\n",
    "    # Then create the indexes, if you need it\n",
    "    store.create_table_index('table_name', columns=[str(i) for i in range((68*2)+1)], optlevel=9, kind='full')"
   ]
  },
  {
   "cell_type": "code",
   "execution_count": null,
   "metadata": {},
   "outputs": [
    {
     "name": "stderr",
     "output_type": "stream",
     "text": [
      "/home/shivam/anaconda3/lib/python3.7/site-packages/pandas/core/indexes/api.py:107: RuntimeWarning: '<' not supported between instances of 'int' and 'str', sort order is undefined for incomparable objects\n",
      "  result = result.union(other)\n",
      "/home/shivam/anaconda3/lib/python3.7/site-packages/ipykernel_launcher.py:6: FutureWarning: Sorting because non-concatenation axis is not aligned. A future version\n",
      "of pandas will change to not sort by default.\n",
      "\n",
      "To accept the future behavior, pass 'sort=False'.\n",
      "\n",
      "To retain the current behavior and silence the warning, pass 'sort=True'.\n",
      "\n",
      "  \n"
     ]
    }
   ],
   "source": [
    "# for file in files:\n",
    "#     filePath = folderPath+pathChanger+file\n",
    "#     df = pd.read_csv(filePath)\n",
    "#     y = int(file.split('.')[1])\n",
    "#     df[136] = y\n",
    "#     minMaxDb = pd.concat([minMaxDb,df])"
   ]
  },
  {
   "cell_type": "code",
   "execution_count": 12,
   "metadata": {},
   "outputs": [],
   "source": [
    "df = pd.read_hdf(\"my_concatenated_file.h5\")"
   ]
  },
  {
   "cell_type": "code",
   "execution_count": 14,
   "metadata": {},
   "outputs": [],
   "source": [
    "df.to_csv(\"merged_all_minmax.csv\",index=False)"
   ]
  },
  {
   "cell_type": "code",
   "execution_count": 16,
   "metadata": {},
   "outputs": [],
   "source": [
    "# filePath = folderPath+pathChanger+file"
   ]
  },
  {
   "cell_type": "code",
   "execution_count": 3,
   "metadata": {},
   "outputs": [],
   "source": [
    "# filePath"
   ]
  },
  {
   "cell_type": "code",
   "execution_count": 21,
   "metadata": {},
   "outputs": [],
   "source": [
    "# df = pd.read_csv(filePath,header=None)"
   ]
  },
  {
   "cell_type": "code",
   "execution_count": 1,
   "metadata": {},
   "outputs": [],
   "source": [
    "# df.head()"
   ]
  },
  {
   "cell_type": "code",
   "execution_count": 28,
   "metadata": {},
   "outputs": [],
   "source": [
    "# y = int(file.split('.')[1])"
   ]
  },
  {
   "cell_type": "code",
   "execution_count": null,
   "metadata": {},
   "outputs": [],
   "source": [
    "# pd.concat()"
   ]
  },
  {
   "cell_type": "code",
   "execution_count": 39,
   "metadata": {},
   "outputs": [],
   "source": [
    "# orignalDb  = pd.DataFrame(data = df.iloc[0:1,:],columns=[i for i in range(136)])"
   ]
  },
  {
   "cell_type": "code",
   "execution_count": 2,
   "metadata": {},
   "outputs": [],
   "source": [
    "# orignalDb"
   ]
  },
  {
   "cell_type": "code",
   "execution_count": 42,
   "metadata": {},
   "outputs": [],
   "source": [
    "# orginalDb = pd.concat([orignalDb,df])"
   ]
  },
  {
   "cell_type": "code",
   "execution_count": null,
   "metadata": {},
   "outputs": [],
   "source": []
  }
 ],
 "metadata": {
  "kernelspec": {
   "display_name": "Python 3",
   "language": "python",
   "name": "python3"
  },
  "language_info": {
   "codemirror_mode": {
    "name": "ipython",
    "version": 3
   },
   "file_extension": ".py",
   "mimetype": "text/x-python",
   "name": "python",
   "nbconvert_exporter": "python",
   "pygments_lexer": "ipython3",
   "version": "3.7.0"
  }
 },
 "nbformat": 4,
 "nbformat_minor": 2
}
