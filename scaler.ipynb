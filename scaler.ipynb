{
 "cells": [
  {
   "cell_type": "code",
   "execution_count": 1,
   "metadata": {},
   "outputs": [],
   "source": [
    "import numpy as np\n",
    "import os\n",
    "import pandas as pd\n",
    "from sklearn.preprocessing import StandardScaler\n",
    "from sklearn.preprocessing import MinMaxScaler"
   ]
  },
  {
   "cell_type": "code",
   "execution_count": 2,
   "metadata": {},
   "outputs": [],
   "source": [
    "pathChanger = \"/\""
   ]
  },
  {
   "cell_type": "code",
   "execution_count": 3,
   "metadata": {},
   "outputs": [],
   "source": [
    "path = \"testData\""
   ]
  },
  {
   "cell_type": "code",
   "execution_count": 4,
   "metadata": {},
   "outputs": [
    {
     "name": "stderr",
     "output_type": "stream",
     "text": [
      "C:\\ProgramData\\Anaconda3\\lib\\site-packages\\sklearn\\utils\\validation.py:475: DataConversionWarning: Data with input dtype int64 was converted to float64 by MinMaxScaler.\n",
      "  warnings.warn(msg, DataConversionWarning)\n"
     ]
    }
   ],
   "source": [
    "for folder in os.listdir(path):\n",
    "    for file in os.listdir(path+pathChanger+folder):\n",
    "        filename = file.strip(\".txt\")\n",
    "        filePath = path + pathChanger + folder + pathChanger + file\n",
    "        df = pd.read_csv(filePath,header=None)\n",
    "        del df[136]\n",
    "        df_new = df.copy()\n",
    "        req = int(0.05*(len(df)))\n",
    "        x = df.iloc[0,:].values.reshape(2,68)[0]\n",
    "        y = df.iloc[0,:].values.reshape(2,68)[1]\n",
    "        for i in range(1,req):\n",
    "            row = df.iloc[i,:].values.reshape(2,68)\n",
    "            row_x ,row_y = row[0],row[1]\n",
    "        #     print(row_x.dtype,row_y.dtype)\n",
    "            x = np.concatenate([x,row_x])\n",
    "            y = np.concatenate([y,row_y])\n",
    "        x = x.reshape(-1,1)\n",
    "        y = y.reshape(-1,1)\n",
    "        x_scaler = MinMaxScaler()\n",
    "        x_scaler.fit(x)\n",
    "        # print(\"x_scaler\",x_scaler.data_min_)\n",
    "        y_scaler = MinMaxScaler()\n",
    "        y_scaler.fit(y)\n",
    "        # print(\"y_scaler\",y_scaler.data_min_)\n",
    "        for i in range(df.shape[1]):\n",
    "            if i%2 == 0:\n",
    "                df[i] =  x_scaler.transform(df[i].values.reshape(-1,1))\n",
    "            else:\n",
    "                df[i] =  y_scaler.transform(df[i].values.reshape(-1,1))\n",
    "        df.to_csv(\"csv_minmax_test/\"+filename+\".csv\",index = False)"
   ]
  },
  {
   "cell_type": "code",
   "execution_count": null,
   "metadata": {},
   "outputs": [],
   "source": []
  }
 ],
 "metadata": {
  "kernelspec": {
   "display_name": "Python 3",
   "language": "python",
   "name": "python3"
  },
  "language_info": {
   "codemirror_mode": {
    "name": "ipython",
    "version": 3
   },
   "file_extension": ".py",
   "mimetype": "text/x-python",
   "name": "python",
   "nbconvert_exporter": "python",
   "pygments_lexer": "ipython3",
   "version": "3.7.0"
  }
 },
 "nbformat": 4,
 "nbformat_minor": 2
}
