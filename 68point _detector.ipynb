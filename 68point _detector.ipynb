{
 "cells": [
  {
   "cell_type": "code",
   "execution_count": 1,
   "metadata": {},
   "outputs": [
    {
     "name": "stdout",
     "output_type": "stream",
     "text": [
      "Python 3.6.9 :: Anaconda, Inc.\r\n"
     ]
    }
   ],
   "source": [
    "# !python --version"
   ]
  },
  {
   "cell_type": "code",
   "execution_count": 2,
   "metadata": {},
   "outputs": [],
   "source": [
    "# !pip install ffmpeg-python"
   ]
  },
  {
   "cell_type": "code",
   "execution_count": 3,
   "metadata": {},
   "outputs": [],
   "source": [
    "# Make sure to install this ffmpeg and add to system \n",
    "# linux command sudo apt  install ffmpeg"
   ]
  },
  {
   "cell_type": "code",
   "execution_count": 4,
   "metadata": {},
   "outputs": [],
   "source": [
    "import os\n",
    "path = \"/media/shivam/New Volume1/dataset\"\n",
    "path_changer = \"/\""
   ]
  },
  {
   "cell_type": "code",
   "execution_count": 5,
   "metadata": {},
   "outputs": [],
   "source": [
    "from imutils import face_utils\n",
    "import dlib\n",
    "import sys\n",
    "import cv2\n",
    "import numpy as np\n",
    "import ffmpeg"
   ]
  },
  {
   "cell_type": "code",
   "execution_count": 6,
   "metadata": {},
   "outputs": [],
   "source": [
    "save_path = os.getcwd()"
   ]
  },
  {
   "cell_type": "code",
   "execution_count": 7,
   "metadata": {},
   "outputs": [],
   "source": [
    "def check_rotation(path_video_file):\n",
    "    # this returns meta-data of the video file in form of a dictionary\n",
    "    meta_dict = ffmpeg.probe(path_video_file)\n",
    "    if 'rotate' not in str(meta_dict):\n",
    "        return None\n",
    "    # from the dictionary, meta_dict['streams'][0]['tags']['rotate'] is the key\n",
    "    # we are looking for\n",
    "    rotateCode = None\n",
    "    try:\n",
    "        if int(meta_dict['streams'][1]['tags']['rotate']) == 90:\n",
    "            rotateCode = cv2.ROTATE_90_CLOCKWISE\n",
    "        elif int(meta_dict['streams'][1]['tags']['rotate']) == 180:\n",
    "            rotateCode = cv2.ROTATE_180\n",
    "        elif int(meta_dict['streams'][1]['tags']['rotate']) == 270:\n",
    "            rotateCode = cv2.ROTATE_90_COUNTERCLOCKWISE\n",
    "        return rotateCode\n",
    "    except:\n",
    "        if int(meta_dict['streams'][0]['tags']['rotate']) == 90:\n",
    "            rotateCode = cv2.ROTATE_90_CLOCKWISE\n",
    "        elif int(meta_dict['streams'][0]['tags']['rotate']) == 180:\n",
    "            rotateCode = cv2.ROTATE_180\n",
    "        elif int(meta_dict['streams'][0]['tags']['rotate']) == 270:\n",
    "            rotateCode = cv2.ROTATE_90_COUNTERCLOCKWISE\n",
    "        return rotateCode\n",
    "    else:\n",
    "        return None"
   ]
  },
  {
   "cell_type": "code",
   "execution_count": 8,
   "metadata": {},
   "outputs": [],
   "source": [
    "def correct_rotation(frame, rotateCode):\n",
    "    return cv2.rotate(frame, rotateCode) "
   ]
  },
  {
   "cell_type": "code",
   "execution_count": 9,
   "metadata": {},
   "outputs": [],
   "source": [
    "# p = our pre-treined model directory, on my case, it's on the same script's diretory.\n",
    "p = \"shape_predictor_68_face_landmarks.dat\"\n",
    "detector = dlib.get_frontal_face_detector()\n",
    "predictor = dlib.shape_predictor(p)"
   ]
  },
  {
   "cell_type": "code",
   "execution_count": 10,
   "metadata": {},
   "outputs": [],
   "source": [
    "temp = os.listdir(path)"
   ]
  },
  {
   "cell_type": "code",
   "execution_count": 11,
   "metadata": {},
   "outputs": [],
   "source": [
    "li = []\n",
    "for i in temp:\n",
    "    if \".zip\" not in i:\n",
    "        li.append(i)"
   ]
  },
  {
   "cell_type": "code",
   "execution_count": 12,
   "metadata": {},
   "outputs": [
    {
     "data": {
      "text/plain": [
       "['Fold1_part1',\n",
       " 'Fold1_part2',\n",
       " 'Fold2_part1',\n",
       " 'Fold2_part2',\n",
       " 'Fold3_part1',\n",
       " 'Fold3_part2',\n",
       " 'Fold4_part1',\n",
       " 'Fold4_part2']"
      ]
     },
     "execution_count": 12,
     "metadata": {},
     "output_type": "execute_result"
    }
   ],
   "source": [
    "li"
   ]
  },
  {
   "cell_type": "code",
   "execution_count": 13,
   "metadata": {},
   "outputs": [],
   "source": [
    "def printToFile(shape,file):\n",
    "    #Write code to sace 68*2 points on matrix\n",
    "    print_shape = shape.reshape(1,-1)\n",
    "    print_shape = print_shape[0]\n",
    "    for i in print_shape:\n",
    "        file.write(str(i)+\",\")\n",
    "    file.write(\"\\n\")"
   ]
  },
  {
   "cell_type": "code",
   "execution_count": 14,
   "metadata": {},
   "outputs": [],
   "source": [
    "def fun(video_path,file):\n",
    "    # Create a VideoCapture object and read from input file\n",
    "    # If the input is the camera, pass 0 instead of the video file name\n",
    "    cap = cv2.VideoCapture(video_path)\n",
    "    # check if video requires rotation\n",
    "    rotateCode = check_rotation(video_path)\n",
    "    #check if camera opened successfully\n",
    "    if cap.isOpened() == False:\n",
    "        print(\"Error opening video stream or file\")\n",
    "    # Read until video is completed\n",
    "    while cap.isOpened():\n",
    "        ret,image = cap.read()\n",
    "        if ret == True:\n",
    "            if rotateCode is not None:\n",
    "                image = correct_rotation(image, rotateCode)\n",
    "            #Display Frame\n",
    "            #cv2.imshow('frame',frame)\n",
    "            # Converting the image to gray scale\n",
    "            gray = cv2.cvtColor(image, cv2.COLOR_BGR2GRAY)\n",
    "\n",
    "            # Get faces into webcam's image\n",
    "            rects = detector(gray, 0)\n",
    "\n",
    "            # For each detected face, find the landmark.\n",
    "            for (i, rect) in enumerate(rects):\n",
    "                # Make the prediction and transfom it to numpy array\n",
    "                shape = predictor(gray, rect)\n",
    "                shape = face_utils.shape_to_np(shape)\n",
    "                printToFile(shape,file)\n",
    "                # Draw on our image, all the finded cordinate points (x,y) \n",
    "                for (x, y) in shape:\n",
    "                    cv2.circle(image, (x, y), 2, (0, 255, 0), -1)\n",
    "            # Show the image\n",
    "            cv2.imshow(\"Output\", image)\n",
    "            #Press Q on keyboard to exit\n",
    "            if cv2.waitKey(30) & 0xFF == ord('q'):\n",
    "                break\n",
    "        else:\n",
    "            break\n",
    "    cap.release()\n",
    "    cv2.destroyAllWindows()"
   ]
  },
  {
   "cell_type": "code",
   "execution_count": 15,
   "metadata": {},
   "outputs": [],
   "source": [
    "file_changer = \"@\"\n",
    "for i in range(len(li)):\n",
    "    folders = os.listdir(path+path_changer+li[i])\n",
    "    for j in range(len(folders)):\n",
    "        videos = os.listdir(path+path_changer+li[i]+path_changer+folders[j])\n",
    "        for k in range(len(videos)):\n",
    "            video = path+path_changer+li[i]+path_changer+folders[j]+path_changer+videos[k]\n",
    "            file_name = li[0]+file_changer+folders[j]+file_changer+videos[k]+\".txt\" \n",
    "            file = open(os.path.join(save_path, file_name),\"w\")\n",
    "            fun(video,file)\n",
    "            file.close()"
   ]
  },
  {
   "cell_type": "code",
   "execution_count": null,
   "metadata": {},
   "outputs": [],
   "source": []
  }
 ],
 "metadata": {
  "kernelspec": {
   "display_name": "Python 3",
   "language": "python",
   "name": "python3"
  },
  "language_info": {
   "codemirror_mode": {
    "name": "ipython",
    "version": 3
   },
   "file_extension": ".py",
   "mimetype": "text/x-python",
   "name": "python",
   "nbconvert_exporter": "python",
   "pygments_lexer": "ipython3",
   "version": "3.7.0"
  }
 },
 "nbformat": 4,
 "nbformat_minor": 2
}
